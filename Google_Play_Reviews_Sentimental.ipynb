{
 "cells": [
  {
   "cell_type": "code",
   "execution_count": null,
   "metadata": {},
   "outputs": [],
   "source": [
    "%pip install -q google_play_scraper \n",
    "%pip install -q transformers \n",
    "%pip install -q plotly-express \n",
    "%pip install pyyaml"
   ]
  },
  {
   "cell_type": "code",
   "execution_count": 2,
   "metadata": {},
   "outputs": [],
   "source": [
    "import pandas as pd\n",
    "import numpy as np\n",
    "from google_play_scraper import app, Sort, reviews_all\n",
    "import plotly.express as px"
   ]
  },
  {
   "cell_type": "code",
   "execution_count": 3,
   "metadata": {},
   "outputs": [],
   "source": [
    "skill_cat_app = reviews_all(\"com.skillcat\", sleep_milliseconds=0, lang='en', country='us', sort=Sort.NEWEST)  \n"
   ]
  },
  {
   "cell_type": "code",
   "execution_count": null,
   "metadata": {},
   "outputs": [],
   "source": [
    "skill_cat_app"
   ]
  },
  {
   "cell_type": "code",
   "execution_count": 5,
   "metadata": {},
   "outputs": [],
   "source": [
    "dataframe = pd.json_normalize(skill_cat_app)"
   ]
  },
  {
   "cell_type": "code",
   "execution_count": 6,
   "metadata": {},
   "outputs": [
    {
     "data": {
      "text/html": [
       "<div>\n",
       "<style scoped>\n",
       "    .dataframe tbody tr th:only-of-type {\n",
       "        vertical-align: middle;\n",
       "    }\n",
       "\n",
       "    .dataframe tbody tr th {\n",
       "        vertical-align: top;\n",
       "    }\n",
       "\n",
       "    .dataframe thead th {\n",
       "        text-align: right;\n",
       "    }\n",
       "</style>\n",
       "<table border=\"1\" class=\"dataframe\">\n",
       "  <thead>\n",
       "    <tr style=\"text-align: right;\">\n",
       "      <th></th>\n",
       "      <th>reviewId</th>\n",
       "      <th>userName</th>\n",
       "      <th>userImage</th>\n",
       "      <th>content</th>\n",
       "      <th>score</th>\n",
       "      <th>thumbsUpCount</th>\n",
       "      <th>reviewCreatedVersion</th>\n",
       "      <th>at</th>\n",
       "      <th>replyContent</th>\n",
       "      <th>repliedAt</th>\n",
       "      <th>appVersion</th>\n",
       "    </tr>\n",
       "  </thead>\n",
       "  <tbody>\n",
       "    <tr>\n",
       "      <th>0</th>\n",
       "      <td>0f63e0c3-9565-4c4a-aded-49b511397c03</td>\n",
       "      <td>lewis de ocampo</td>\n",
       "      <td>https://play-lh.googleusercontent.com/a-/ALV-U...</td>\n",
       "      <td>I really like it. But why is it always crashin...</td>\n",
       "      <td>3</td>\n",
       "      <td>0</td>\n",
       "      <td>6.0.1</td>\n",
       "      <td>2024-11-10 22:35:58</td>\n",
       "      <td>None</td>\n",
       "      <td>NaT</td>\n",
       "      <td>6.0.1</td>\n",
       "    </tr>\n",
       "    <tr>\n",
       "      <th>1</th>\n",
       "      <td>d0379e6a-cb80-4e70-91ba-fe25952f82fb</td>\n",
       "      <td>Andrew Coffey</td>\n",
       "      <td>https://play-lh.googleusercontent.com/a-/ALV-U...</td>\n",
       "      <td>not free</td>\n",
       "      <td>1</td>\n",
       "      <td>0</td>\n",
       "      <td>None</td>\n",
       "      <td>2024-11-09 04:07:53</td>\n",
       "      <td>None</td>\n",
       "      <td>NaT</td>\n",
       "      <td>None</td>\n",
       "    </tr>\n",
       "    <tr>\n",
       "      <th>2</th>\n",
       "      <td>116d668e-b0c9-4c01-8196-8eaabe29b906</td>\n",
       "      <td>Salami Saheed</td>\n",
       "      <td>https://play-lh.googleusercontent.com/a/ACg8oc...</td>\n",
       "      <td>I can't imagine how much I have learned about ...</td>\n",
       "      <td>5</td>\n",
       "      <td>0</td>\n",
       "      <td>5.3.4</td>\n",
       "      <td>2024-11-07 19:06:00</td>\n",
       "      <td>None</td>\n",
       "      <td>NaT</td>\n",
       "      <td>5.3.4</td>\n",
       "    </tr>\n",
       "    <tr>\n",
       "      <th>3</th>\n",
       "      <td>8a2028f3-916c-47bf-a568-267210cae2aa</td>\n",
       "      <td>Bill Fitzgerald</td>\n",
       "      <td>https://play-lh.googleusercontent.com/a/ACg8oc...</td>\n",
       "      <td>awesome app! got 608 cert and other training o...</td>\n",
       "      <td>5</td>\n",
       "      <td>0</td>\n",
       "      <td>6.0.1</td>\n",
       "      <td>2024-11-07 08:59:23</td>\n",
       "      <td>None</td>\n",
       "      <td>NaT</td>\n",
       "      <td>6.0.1</td>\n",
       "    </tr>\n",
       "    <tr>\n",
       "      <th>4</th>\n",
       "      <td>7f0a3992-49cd-4a40-8345-4259d9ecaf29</td>\n",
       "      <td>dj Ovamarz</td>\n",
       "      <td>https://play-lh.googleusercontent.com/a-/ALV-U...</td>\n",
       "      <td>uhhh</td>\n",
       "      <td>5</td>\n",
       "      <td>0</td>\n",
       "      <td>6.0.1</td>\n",
       "      <td>2024-11-07 00:48:55</td>\n",
       "      <td>None</td>\n",
       "      <td>NaT</td>\n",
       "      <td>6.0.1</td>\n",
       "    </tr>\n",
       "  </tbody>\n",
       "</table>\n",
       "</div>"
      ],
      "text/plain": [
       "                               reviewId         userName  \\\n",
       "0  0f63e0c3-9565-4c4a-aded-49b511397c03  lewis de ocampo   \n",
       "1  d0379e6a-cb80-4e70-91ba-fe25952f82fb    Andrew Coffey   \n",
       "2  116d668e-b0c9-4c01-8196-8eaabe29b906    Salami Saheed   \n",
       "3  8a2028f3-916c-47bf-a568-267210cae2aa  Bill Fitzgerald   \n",
       "4  7f0a3992-49cd-4a40-8345-4259d9ecaf29       dj Ovamarz   \n",
       "\n",
       "                                           userImage  \\\n",
       "0  https://play-lh.googleusercontent.com/a-/ALV-U...   \n",
       "1  https://play-lh.googleusercontent.com/a-/ALV-U...   \n",
       "2  https://play-lh.googleusercontent.com/a/ACg8oc...   \n",
       "3  https://play-lh.googleusercontent.com/a/ACg8oc...   \n",
       "4  https://play-lh.googleusercontent.com/a-/ALV-U...   \n",
       "\n",
       "                                             content  score  thumbsUpCount  \\\n",
       "0  I really like it. But why is it always crashin...      3              0   \n",
       "1                                           not free      1              0   \n",
       "2  I can't imagine how much I have learned about ...      5              0   \n",
       "3  awesome app! got 608 cert and other training o...      5              0   \n",
       "4                                               uhhh      5              0   \n",
       "\n",
       "  reviewCreatedVersion                  at replyContent repliedAt appVersion  \n",
       "0                6.0.1 2024-11-10 22:35:58         None       NaT      6.0.1  \n",
       "1                 None 2024-11-09 04:07:53         None       NaT       None  \n",
       "2                5.3.4 2024-11-07 19:06:00         None       NaT      5.3.4  \n",
       "3                6.0.1 2024-11-07 08:59:23         None       NaT      6.0.1  \n",
       "4                6.0.1 2024-11-07 00:48:55         None       NaT      6.0.1  "
      ]
     },
     "execution_count": 6,
     "metadata": {},
     "output_type": "execute_result"
    }
   ],
   "source": [
    "dataframe.head()"
   ]
  },
  {
   "cell_type": "code",
   "execution_count": 7,
   "metadata": {},
   "outputs": [
    {
     "data": {
      "text/plain": [
       "4.700098328416913"
      ]
     },
     "execution_count": 7,
     "metadata": {},
     "output_type": "execute_result"
    }
   ],
   "source": [
    "dataframe['score'].mean()"
   ]
  },
  {
   "cell_type": "code",
   "execution_count": 8,
   "metadata": {},
   "outputs": [
    {
     "data": {
      "text/plain": [
       "reviewCreatedVersion\n",
       "5.0.3    71\n",
       "2.2.5    69\n",
       "2.2.3    60\n",
       "5.3.4    50\n",
       "2.3      48\n",
       "2.1.3    48\n",
       "1.8      41\n",
       "1.5.1    39\n",
       "1.5      37\n",
       "2.2.2    37\n",
       "1.7      36\n",
       "1.9.1    28\n",
       "2.0.1    28\n",
       "5.2.1    24\n",
       "4.8      22\n",
       "1.6.2    21\n",
       "6.0.1    19\n",
       "5.1.1    18\n",
       "5.3.2    18\n",
       "2.4      14\n",
       "1.6      14\n",
       "4.8.1    13\n",
       "5.1      13\n",
       "5.0.2    13\n",
       "1.9.3    13\n",
       "1.4      12\n",
       "1.3.3    11\n",
       "1.2.2    10\n",
       "1.3.2    10\n",
       "1.3.0    10\n",
       "1.2.3     9\n",
       "2.1.2     9\n",
       "2.1.1     9\n",
       "5.3.3     8\n",
       "1.9.2     8\n",
       "2.0       8\n",
       "5.3.1     8\n",
       "1.6.1     7\n",
       "1.4.2     7\n",
       "4.8.2     6\n",
       "6.0       4\n",
       "1.2.0     4\n",
       "2.1       3\n",
       "1.2.1     3\n",
       "5.3       2\n",
       "1.4.5     1\n",
       "5.0.1     1\n",
       "1.0       1\n",
       "1.0.5     1\n",
       "0.1.8     1\n",
       "Name: count, dtype: int64"
      ]
     },
     "execution_count": 8,
     "metadata": {},
     "output_type": "execute_result"
    }
   ],
   "source": [
    "dataframe['reviewCreatedVersion'].value_counts()"
   ]
  },
  {
   "cell_type": "markdown",
   "metadata": {},
   "source": [
    "### We want to run a deep learning pre trained model on top these comments to get a sentiment analysis so that we can find if they are positive or negative"
   ]
  },
  {
   "cell_type": "code",
   "execution_count": null,
   "metadata": {},
   "outputs": [],
   "source": [
    "# Use a pipeline as a high-level helper\n",
    "from transformers import pipeline\n",
    "\n",
    "sentiment_analysis = pipeline(\"text-classification\", model=\"siebert/sentiment-roberta-large-english\")"
   ]
  },
  {
   "cell_type": "code",
   "execution_count": 10,
   "metadata": {},
   "outputs": [
    {
     "name": "stdout",
     "output_type": "stream",
     "text": [
      "[{'label': 'POSITIVE', 'score': 0.9988139867782593}]\n"
     ]
    }
   ],
   "source": [
    "print(sentiment_analysis(\"I love SkillCat!\"))"
   ]
  },
  {
   "cell_type": "code",
   "execution_count": 39,
   "metadata": {},
   "outputs": [
    {
     "data": {
      "text/plain": [
       "reviewId                        object\n",
       "userName                        object\n",
       "userImage                       object\n",
       "content                         object\n",
       "score                          float64\n",
       "thumbsUpCount                    int64\n",
       "reviewCreatedVersion            object\n",
       "at                      datetime64[ns]\n",
       "replyContent                    object\n",
       "repliedAt               datetime64[ns]\n",
       "appVersion                      object\n",
       "sentiment                       object\n",
       "result                          object\n",
       "dtype: object"
      ]
     },
     "execution_count": 39,
     "metadata": {},
     "output_type": "execute_result"
    }
   ],
   "source": [
    "dataframe.dtypes"
   ]
  },
  {
   "cell_type": "code",
   "execution_count": 12,
   "metadata": {},
   "outputs": [],
   "source": [
    "# Convert the 'content' column to a string\n",
    "dataframe['content'] = dataframe['content'].astype(str)"
   ]
  },
  {
   "cell_type": "code",
   "execution_count": 21,
   "metadata": {},
   "outputs": [],
   "source": [
    "# Apply the sentiment analysis pipeline to the 'content' column\n",
    "dataframe['result'] = dataframe['content'].apply(\n",
    "    lambda x: sentiment_analysis(x)\n",
    ")"
   ]
  },
  {
   "cell_type": "code",
   "execution_count": 22,
   "metadata": {},
   "outputs": [
    {
     "data": {
      "text/html": [
       "<div>\n",
       "<style scoped>\n",
       "    .dataframe tbody tr th:only-of-type {\n",
       "        vertical-align: middle;\n",
       "    }\n",
       "\n",
       "    .dataframe tbody tr th {\n",
       "        vertical-align: top;\n",
       "    }\n",
       "\n",
       "    .dataframe thead th {\n",
       "        text-align: right;\n",
       "    }\n",
       "</style>\n",
       "<table border=\"1\" class=\"dataframe\">\n",
       "  <thead>\n",
       "    <tr style=\"text-align: right;\">\n",
       "      <th></th>\n",
       "      <th>reviewId</th>\n",
       "      <th>userName</th>\n",
       "      <th>userImage</th>\n",
       "      <th>content</th>\n",
       "      <th>score</th>\n",
       "      <th>thumbsUpCount</th>\n",
       "      <th>reviewCreatedVersion</th>\n",
       "      <th>at</th>\n",
       "      <th>replyContent</th>\n",
       "      <th>repliedAt</th>\n",
       "      <th>appVersion</th>\n",
       "      <th>sentiment</th>\n",
       "      <th>result</th>\n",
       "    </tr>\n",
       "  </thead>\n",
       "  <tbody>\n",
       "    <tr>\n",
       "      <th>0</th>\n",
       "      <td>0f63e0c3-9565-4c4a-aded-49b511397c03</td>\n",
       "      <td>lewis de ocampo</td>\n",
       "      <td>https://play-lh.googleusercontent.com/a-/ALV-U...</td>\n",
       "      <td>I really like it. But why is it always crashin...</td>\n",
       "      <td>3</td>\n",
       "      <td>0</td>\n",
       "      <td>6.0.1</td>\n",
       "      <td>2024-11-10 22:35:58</td>\n",
       "      <td>None</td>\n",
       "      <td>NaT</td>\n",
       "      <td>6.0.1</td>\n",
       "      <td>[{'label': 'NEGATIVE', 'score': 0.999343454837...</td>\n",
       "      <td>[{'label': 'NEGATIVE', 'score': 0.999343454837...</td>\n",
       "    </tr>\n",
       "    <tr>\n",
       "      <th>1</th>\n",
       "      <td>d0379e6a-cb80-4e70-91ba-fe25952f82fb</td>\n",
       "      <td>Andrew Coffey</td>\n",
       "      <td>https://play-lh.googleusercontent.com/a-/ALV-U...</td>\n",
       "      <td>not free</td>\n",
       "      <td>1</td>\n",
       "      <td>0</td>\n",
       "      <td>None</td>\n",
       "      <td>2024-11-09 04:07:53</td>\n",
       "      <td>None</td>\n",
       "      <td>NaT</td>\n",
       "      <td>None</td>\n",
       "      <td>[{'label': 'NEGATIVE', 'score': 0.997162103652...</td>\n",
       "      <td>[{'label': 'NEGATIVE', 'score': 0.997162103652...</td>\n",
       "    </tr>\n",
       "    <tr>\n",
       "      <th>2</th>\n",
       "      <td>116d668e-b0c9-4c01-8196-8eaabe29b906</td>\n",
       "      <td>Salami Saheed</td>\n",
       "      <td>https://play-lh.googleusercontent.com/a/ACg8oc...</td>\n",
       "      <td>I can't imagine how much I have learned about ...</td>\n",
       "      <td>5</td>\n",
       "      <td>0</td>\n",
       "      <td>5.3.4</td>\n",
       "      <td>2024-11-07 19:06:00</td>\n",
       "      <td>None</td>\n",
       "      <td>NaT</td>\n",
       "      <td>5.3.4</td>\n",
       "      <td>[{'label': 'POSITIVE', 'score': 0.998816728591...</td>\n",
       "      <td>[{'label': 'POSITIVE', 'score': 0.998816728591...</td>\n",
       "    </tr>\n",
       "    <tr>\n",
       "      <th>3</th>\n",
       "      <td>8a2028f3-916c-47bf-a568-267210cae2aa</td>\n",
       "      <td>Bill Fitzgerald</td>\n",
       "      <td>https://play-lh.googleusercontent.com/a/ACg8oc...</td>\n",
       "      <td>awesome app! got 608 cert and other training o...</td>\n",
       "      <td>5</td>\n",
       "      <td>0</td>\n",
       "      <td>6.0.1</td>\n",
       "      <td>2024-11-07 08:59:23</td>\n",
       "      <td>None</td>\n",
       "      <td>NaT</td>\n",
       "      <td>6.0.1</td>\n",
       "      <td>[{'label': 'POSITIVE', 'score': 0.998874843120...</td>\n",
       "      <td>[{'label': 'POSITIVE', 'score': 0.998874843120...</td>\n",
       "    </tr>\n",
       "    <tr>\n",
       "      <th>4</th>\n",
       "      <td>7f0a3992-49cd-4a40-8345-4259d9ecaf29</td>\n",
       "      <td>dj Ovamarz</td>\n",
       "      <td>https://play-lh.googleusercontent.com/a-/ALV-U...</td>\n",
       "      <td>uhhh</td>\n",
       "      <td>5</td>\n",
       "      <td>0</td>\n",
       "      <td>6.0.1</td>\n",
       "      <td>2024-11-07 00:48:55</td>\n",
       "      <td>None</td>\n",
       "      <td>NaT</td>\n",
       "      <td>6.0.1</td>\n",
       "      <td>[{'label': 'NEGATIVE', 'score': 0.997138500213...</td>\n",
       "      <td>[{'label': 'NEGATIVE', 'score': 0.997138500213...</td>\n",
       "    </tr>\n",
       "  </tbody>\n",
       "</table>\n",
       "</div>"
      ],
      "text/plain": [
       "                               reviewId         userName  \\\n",
       "0  0f63e0c3-9565-4c4a-aded-49b511397c03  lewis de ocampo   \n",
       "1  d0379e6a-cb80-4e70-91ba-fe25952f82fb    Andrew Coffey   \n",
       "2  116d668e-b0c9-4c01-8196-8eaabe29b906    Salami Saheed   \n",
       "3  8a2028f3-916c-47bf-a568-267210cae2aa  Bill Fitzgerald   \n",
       "4  7f0a3992-49cd-4a40-8345-4259d9ecaf29       dj Ovamarz   \n",
       "\n",
       "                                           userImage  \\\n",
       "0  https://play-lh.googleusercontent.com/a-/ALV-U...   \n",
       "1  https://play-lh.googleusercontent.com/a-/ALV-U...   \n",
       "2  https://play-lh.googleusercontent.com/a/ACg8oc...   \n",
       "3  https://play-lh.googleusercontent.com/a/ACg8oc...   \n",
       "4  https://play-lh.googleusercontent.com/a-/ALV-U...   \n",
       "\n",
       "                                             content  score  thumbsUpCount  \\\n",
       "0  I really like it. But why is it always crashin...      3              0   \n",
       "1                                           not free      1              0   \n",
       "2  I can't imagine how much I have learned about ...      5              0   \n",
       "3  awesome app! got 608 cert and other training o...      5              0   \n",
       "4                                               uhhh      5              0   \n",
       "\n",
       "  reviewCreatedVersion                  at replyContent repliedAt appVersion  \\\n",
       "0                6.0.1 2024-11-10 22:35:58         None       NaT      6.0.1   \n",
       "1                 None 2024-11-09 04:07:53         None       NaT       None   \n",
       "2                5.3.4 2024-11-07 19:06:00         None       NaT      5.3.4   \n",
       "3                6.0.1 2024-11-07 08:59:23         None       NaT      6.0.1   \n",
       "4                6.0.1 2024-11-07 00:48:55         None       NaT      6.0.1   \n",
       "\n",
       "                                           sentiment  \\\n",
       "0  [{'label': 'NEGATIVE', 'score': 0.999343454837...   \n",
       "1  [{'label': 'NEGATIVE', 'score': 0.997162103652...   \n",
       "2  [{'label': 'POSITIVE', 'score': 0.998816728591...   \n",
       "3  [{'label': 'POSITIVE', 'score': 0.998874843120...   \n",
       "4  [{'label': 'NEGATIVE', 'score': 0.997138500213...   \n",
       "\n",
       "                                              result  \n",
       "0  [{'label': 'NEGATIVE', 'score': 0.999343454837...  \n",
       "1  [{'label': 'NEGATIVE', 'score': 0.997162103652...  \n",
       "2  [{'label': 'POSITIVE', 'score': 0.998816728591...  \n",
       "3  [{'label': 'POSITIVE', 'score': 0.998874843120...  \n",
       "4  [{'label': 'NEGATIVE', 'score': 0.997138500213...  "
      ]
     },
     "execution_count": 22,
     "metadata": {},
     "output_type": "execute_result"
    }
   ],
   "source": [
    "# Extract the sentiment label from the dictionary\n",
    "dataframe.head()"
   ]
  },
  {
   "cell_type": "code",
   "execution_count": 23,
   "metadata": {},
   "outputs": [
    {
     "data": {
      "text/plain": [
       "(1017, 13)"
      ]
     },
     "execution_count": 23,
     "metadata": {},
     "output_type": "execute_result"
    }
   ],
   "source": [
    "dataframe.shape"
   ]
  },
  {
   "cell_type": "code",
   "execution_count": 24,
   "metadata": {},
   "outputs": [],
   "source": [
    "y = sentiment_analysis(\"I love SkillCat!\")"
   ]
  },
  {
   "cell_type": "code",
   "execution_count": 25,
   "metadata": {},
   "outputs": [
    {
     "data": {
      "text/plain": [
       "'POSITIVE'"
      ]
     },
     "execution_count": 25,
     "metadata": {},
     "output_type": "execute_result"
    }
   ],
   "source": [
    "y[0]['label']"
   ]
  },
  {
   "cell_type": "code",
   "execution_count": 26,
   "metadata": {},
   "outputs": [
    {
     "data": {
      "text/plain": [
       "0.9988139867782593"
      ]
     },
     "execution_count": 26,
     "metadata": {},
     "output_type": "execute_result"
    }
   ],
   "source": [
    "y[0]['score']"
   ]
  },
  {
   "cell_type": "code",
   "execution_count": 28,
   "metadata": {},
   "outputs": [],
   "source": [
    "dataframe['sentiment'] = dataframe['result'].apply(\n",
    "    lambda x: x[0]['label']\n",
    ")\n",
    "dataframe['score'] = dataframe['result'].apply(\n",
    "    lambda x: x[0]['score']\n",
    ")"
   ]
  },
  {
   "cell_type": "code",
   "execution_count": 29,
   "metadata": {},
   "outputs": [
    {
     "data": {
      "text/html": [
       "<div>\n",
       "<style scoped>\n",
       "    .dataframe tbody tr th:only-of-type {\n",
       "        vertical-align: middle;\n",
       "    }\n",
       "\n",
       "    .dataframe tbody tr th {\n",
       "        vertical-align: top;\n",
       "    }\n",
       "\n",
       "    .dataframe thead th {\n",
       "        text-align: right;\n",
       "    }\n",
       "</style>\n",
       "<table border=\"1\" class=\"dataframe\">\n",
       "  <thead>\n",
       "    <tr style=\"text-align: right;\">\n",
       "      <th></th>\n",
       "      <th>reviewId</th>\n",
       "      <th>userName</th>\n",
       "      <th>userImage</th>\n",
       "      <th>content</th>\n",
       "      <th>score</th>\n",
       "      <th>thumbsUpCount</th>\n",
       "      <th>reviewCreatedVersion</th>\n",
       "      <th>at</th>\n",
       "      <th>replyContent</th>\n",
       "      <th>repliedAt</th>\n",
       "      <th>appVersion</th>\n",
       "      <th>sentiment</th>\n",
       "      <th>result</th>\n",
       "    </tr>\n",
       "  </thead>\n",
       "  <tbody>\n",
       "    <tr>\n",
       "      <th>0</th>\n",
       "      <td>0f63e0c3-9565-4c4a-aded-49b511397c03</td>\n",
       "      <td>lewis de ocampo</td>\n",
       "      <td>https://play-lh.googleusercontent.com/a-/ALV-U...</td>\n",
       "      <td>I really like it. But why is it always crashin...</td>\n",
       "      <td>0.999343</td>\n",
       "      <td>0</td>\n",
       "      <td>6.0.1</td>\n",
       "      <td>2024-11-10 22:35:58</td>\n",
       "      <td>None</td>\n",
       "      <td>NaT</td>\n",
       "      <td>6.0.1</td>\n",
       "      <td>NEGATIVE</td>\n",
       "      <td>[{'label': 'NEGATIVE', 'score': 0.999343454837...</td>\n",
       "    </tr>\n",
       "    <tr>\n",
       "      <th>1</th>\n",
       "      <td>d0379e6a-cb80-4e70-91ba-fe25952f82fb</td>\n",
       "      <td>Andrew Coffey</td>\n",
       "      <td>https://play-lh.googleusercontent.com/a-/ALV-U...</td>\n",
       "      <td>not free</td>\n",
       "      <td>0.997162</td>\n",
       "      <td>0</td>\n",
       "      <td>None</td>\n",
       "      <td>2024-11-09 04:07:53</td>\n",
       "      <td>None</td>\n",
       "      <td>NaT</td>\n",
       "      <td>None</td>\n",
       "      <td>NEGATIVE</td>\n",
       "      <td>[{'label': 'NEGATIVE', 'score': 0.997162103652...</td>\n",
       "    </tr>\n",
       "    <tr>\n",
       "      <th>2</th>\n",
       "      <td>116d668e-b0c9-4c01-8196-8eaabe29b906</td>\n",
       "      <td>Salami Saheed</td>\n",
       "      <td>https://play-lh.googleusercontent.com/a/ACg8oc...</td>\n",
       "      <td>I can't imagine how much I have learned about ...</td>\n",
       "      <td>0.998817</td>\n",
       "      <td>0</td>\n",
       "      <td>5.3.4</td>\n",
       "      <td>2024-11-07 19:06:00</td>\n",
       "      <td>None</td>\n",
       "      <td>NaT</td>\n",
       "      <td>5.3.4</td>\n",
       "      <td>POSITIVE</td>\n",
       "      <td>[{'label': 'POSITIVE', 'score': 0.998816728591...</td>\n",
       "    </tr>\n",
       "    <tr>\n",
       "      <th>3</th>\n",
       "      <td>8a2028f3-916c-47bf-a568-267210cae2aa</td>\n",
       "      <td>Bill Fitzgerald</td>\n",
       "      <td>https://play-lh.googleusercontent.com/a/ACg8oc...</td>\n",
       "      <td>awesome app! got 608 cert and other training o...</td>\n",
       "      <td>0.998875</td>\n",
       "      <td>0</td>\n",
       "      <td>6.0.1</td>\n",
       "      <td>2024-11-07 08:59:23</td>\n",
       "      <td>None</td>\n",
       "      <td>NaT</td>\n",
       "      <td>6.0.1</td>\n",
       "      <td>POSITIVE</td>\n",
       "      <td>[{'label': 'POSITIVE', 'score': 0.998874843120...</td>\n",
       "    </tr>\n",
       "    <tr>\n",
       "      <th>4</th>\n",
       "      <td>7f0a3992-49cd-4a40-8345-4259d9ecaf29</td>\n",
       "      <td>dj Ovamarz</td>\n",
       "      <td>https://play-lh.googleusercontent.com/a-/ALV-U...</td>\n",
       "      <td>uhhh</td>\n",
       "      <td>0.997139</td>\n",
       "      <td>0</td>\n",
       "      <td>6.0.1</td>\n",
       "      <td>2024-11-07 00:48:55</td>\n",
       "      <td>None</td>\n",
       "      <td>NaT</td>\n",
       "      <td>6.0.1</td>\n",
       "      <td>NEGATIVE</td>\n",
       "      <td>[{'label': 'NEGATIVE', 'score': 0.997138500213...</td>\n",
       "    </tr>\n",
       "  </tbody>\n",
       "</table>\n",
       "</div>"
      ],
      "text/plain": [
       "                               reviewId         userName  \\\n",
       "0  0f63e0c3-9565-4c4a-aded-49b511397c03  lewis de ocampo   \n",
       "1  d0379e6a-cb80-4e70-91ba-fe25952f82fb    Andrew Coffey   \n",
       "2  116d668e-b0c9-4c01-8196-8eaabe29b906    Salami Saheed   \n",
       "3  8a2028f3-916c-47bf-a568-267210cae2aa  Bill Fitzgerald   \n",
       "4  7f0a3992-49cd-4a40-8345-4259d9ecaf29       dj Ovamarz   \n",
       "\n",
       "                                           userImage  \\\n",
       "0  https://play-lh.googleusercontent.com/a-/ALV-U...   \n",
       "1  https://play-lh.googleusercontent.com/a-/ALV-U...   \n",
       "2  https://play-lh.googleusercontent.com/a/ACg8oc...   \n",
       "3  https://play-lh.googleusercontent.com/a/ACg8oc...   \n",
       "4  https://play-lh.googleusercontent.com/a-/ALV-U...   \n",
       "\n",
       "                                             content     score  thumbsUpCount  \\\n",
       "0  I really like it. But why is it always crashin...  0.999343              0   \n",
       "1                                           not free  0.997162              0   \n",
       "2  I can't imagine how much I have learned about ...  0.998817              0   \n",
       "3  awesome app! got 608 cert and other training o...  0.998875              0   \n",
       "4                                               uhhh  0.997139              0   \n",
       "\n",
       "  reviewCreatedVersion                  at replyContent repliedAt appVersion  \\\n",
       "0                6.0.1 2024-11-10 22:35:58         None       NaT      6.0.1   \n",
       "1                 None 2024-11-09 04:07:53         None       NaT       None   \n",
       "2                5.3.4 2024-11-07 19:06:00         None       NaT      5.3.4   \n",
       "3                6.0.1 2024-11-07 08:59:23         None       NaT      6.0.1   \n",
       "4                6.0.1 2024-11-07 00:48:55         None       NaT      6.0.1   \n",
       "\n",
       "  sentiment                                             result  \n",
       "0  NEGATIVE  [{'label': 'NEGATIVE', 'score': 0.999343454837...  \n",
       "1  NEGATIVE  [{'label': 'NEGATIVE', 'score': 0.997162103652...  \n",
       "2  POSITIVE  [{'label': 'POSITIVE', 'score': 0.998816728591...  \n",
       "3  POSITIVE  [{'label': 'POSITIVE', 'score': 0.998874843120...  \n",
       "4  NEGATIVE  [{'label': 'NEGATIVE', 'score': 0.997138500213...  "
      ]
     },
     "execution_count": 29,
     "metadata": {},
     "output_type": "execute_result"
    }
   ],
   "source": [
    "dataframe.head()"
   ]
  },
  {
   "cell_type": "code",
   "execution_count": 31,
   "metadata": {},
   "outputs": [
    {
     "data": {
      "text/plain": [
       "0.998514002051677"
      ]
     },
     "execution_count": 31,
     "metadata": {},
     "output_type": "execute_result"
    }
   ],
   "source": [
    "dataframe['score'].mean()"
   ]
  },
  {
   "cell_type": "code",
   "execution_count": 33,
   "metadata": {},
   "outputs": [
    {
     "data": {
      "text/plain": [
       "sentiment\n",
       "POSITIVE    0.913471\n",
       "NEGATIVE    0.086529\n",
       "Name: proportion, dtype: float64"
      ]
     },
     "execution_count": 33,
     "metadata": {},
     "output_type": "execute_result"
    }
   ],
   "source": [
    "dataframe['sentiment'].value_counts(normalize=True)"
   ]
  },
  {
   "cell_type": "code",
   "execution_count": null,
   "metadata": {},
   "outputs": [
    {
     "data": {
      "application/vnd.plotly.v1+json": {
       "config": {
        "plotlyServerURL": "https://plot.ly"
       },
       "data": [
        {
         "alignmentgroup": "True",
         "bingroup": "x",
         "hovertemplate": "sentiment=%{x}<br>count=%{y}<extra></extra>",
         "legendgroup": "NEGATIVE",
         "marker": {
          "color": "#636efa",
          "pattern": {
           "shape": ""
          }
         },
         "name": "NEGATIVE",
         "offsetgroup": "NEGATIVE",
         "orientation": "v",
         "showlegend": true,
         "texttemplate": "%{value}",
         "type": "histogram",
         "x": [
          "NEGATIVE",
          "NEGATIVE",
          "NEGATIVE",
          "NEGATIVE",
          "NEGATIVE",
          "NEGATIVE",
          "NEGATIVE",
          "NEGATIVE",
          "NEGATIVE",
          "NEGATIVE",
          "NEGATIVE",
          "NEGATIVE",
          "NEGATIVE",
          "NEGATIVE",
          "NEGATIVE",
          "NEGATIVE",
          "NEGATIVE",
          "NEGATIVE",
          "NEGATIVE",
          "NEGATIVE",
          "NEGATIVE",
          "NEGATIVE",
          "NEGATIVE",
          "NEGATIVE",
          "NEGATIVE",
          "NEGATIVE",
          "NEGATIVE",
          "NEGATIVE",
          "NEGATIVE",
          "NEGATIVE",
          "NEGATIVE",
          "NEGATIVE",
          "NEGATIVE",
          "NEGATIVE",
          "NEGATIVE",
          "NEGATIVE",
          "NEGATIVE",
          "NEGATIVE",
          "NEGATIVE",
          "NEGATIVE",
          "NEGATIVE",
          "NEGATIVE",
          "NEGATIVE",
          "NEGATIVE",
          "NEGATIVE",
          "NEGATIVE",
          "NEGATIVE",
          "NEGATIVE",
          "NEGATIVE",
          "NEGATIVE",
          "NEGATIVE",
          "NEGATIVE",
          "NEGATIVE",
          "NEGATIVE",
          "NEGATIVE",
          "NEGATIVE",
          "NEGATIVE",
          "NEGATIVE",
          "NEGATIVE",
          "NEGATIVE",
          "NEGATIVE",
          "NEGATIVE",
          "NEGATIVE",
          "NEGATIVE",
          "NEGATIVE",
          "NEGATIVE",
          "NEGATIVE",
          "NEGATIVE",
          "NEGATIVE",
          "NEGATIVE",
          "NEGATIVE",
          "NEGATIVE",
          "NEGATIVE",
          "NEGATIVE",
          "NEGATIVE",
          "NEGATIVE",
          "NEGATIVE",
          "NEGATIVE",
          "NEGATIVE",
          "NEGATIVE",
          "NEGATIVE",
          "NEGATIVE",
          "NEGATIVE",
          "NEGATIVE",
          "NEGATIVE",
          "NEGATIVE",
          "NEGATIVE",
          "NEGATIVE"
         ],
         "xaxis": "x",
         "yaxis": "y"
        },
        {
         "alignmentgroup": "True",
         "bingroup": "x",
         "hovertemplate": "sentiment=%{x}<br>count=%{y}<extra></extra>",
         "legendgroup": "POSITIVE",
         "marker": {
          "color": "#EF553B",
          "pattern": {
           "shape": ""
          }
         },
         "name": "POSITIVE",
         "offsetgroup": "POSITIVE",
         "orientation": "v",
         "showlegend": true,
         "texttemplate": "%{value}",
         "type": "histogram",
         "x": [
          "POSITIVE",
          "POSITIVE",
          "POSITIVE",
          "POSITIVE",
          "POSITIVE",
          "POSITIVE",
          "POSITIVE",
          "POSITIVE",
          "POSITIVE",
          "POSITIVE",
          "POSITIVE",
          "POSITIVE",
          "POSITIVE",
          "POSITIVE",
          "POSITIVE",
          "POSITIVE",
          "POSITIVE",
          "POSITIVE",
          "POSITIVE",
          "POSITIVE",
          "POSITIVE",
          "POSITIVE",
          "POSITIVE",
          "POSITIVE",
          "POSITIVE",
          "POSITIVE",
          "POSITIVE",
          "POSITIVE",
          "POSITIVE",
          "POSITIVE",
          "POSITIVE",
          "POSITIVE",
          "POSITIVE",
          "POSITIVE",
          "POSITIVE",
          "POSITIVE",
          "POSITIVE",
          "POSITIVE",
          "POSITIVE",
          "POSITIVE",
          "POSITIVE",
          "POSITIVE",
          "POSITIVE",
          "POSITIVE",
          "POSITIVE",
          "POSITIVE",
          "POSITIVE",
          "POSITIVE",
          "POSITIVE",
          "POSITIVE",
          "POSITIVE",
          "POSITIVE",
          "POSITIVE",
          "POSITIVE",
          "POSITIVE",
          "POSITIVE",
          "POSITIVE",
          "POSITIVE",
          "POSITIVE",
          "POSITIVE",
          "POSITIVE",
          "POSITIVE",
          "POSITIVE",
          "POSITIVE",
          "POSITIVE",
          "POSITIVE",
          "POSITIVE",
          "POSITIVE",
          "POSITIVE",
          "POSITIVE",
          "POSITIVE",
          "POSITIVE",
          "POSITIVE",
          "POSITIVE",
          "POSITIVE",
          "POSITIVE",
          "POSITIVE",
          "POSITIVE",
          "POSITIVE",
          "POSITIVE",
          "POSITIVE",
          "POSITIVE",
          "POSITIVE",
          "POSITIVE",
          "POSITIVE",
          "POSITIVE",
          "POSITIVE",
          "POSITIVE",
          "POSITIVE",
          "POSITIVE",
          "POSITIVE",
          "POSITIVE",
          "POSITIVE",
          "POSITIVE",
          "POSITIVE",
          "POSITIVE",
          "POSITIVE",
          "POSITIVE",
          "POSITIVE",
          "POSITIVE",
          "POSITIVE",
          "POSITIVE",
          "POSITIVE",
          "POSITIVE",
          "POSITIVE",
          "POSITIVE",
          "POSITIVE",
          "POSITIVE",
          "POSITIVE",
          "POSITIVE",
          "POSITIVE",
          "POSITIVE",
          "POSITIVE",
          "POSITIVE",
          "POSITIVE",
          "POSITIVE",
          "POSITIVE",
          "POSITIVE",
          "POSITIVE",
          "POSITIVE",
          "POSITIVE",
          "POSITIVE",
          "POSITIVE",
          "POSITIVE",
          "POSITIVE",
          "POSITIVE",
          "POSITIVE",
          "POSITIVE",
          "POSITIVE",
          "POSITIVE",
          "POSITIVE",
          "POSITIVE",
          "POSITIVE",
          "POSITIVE",
          "POSITIVE",
          "POSITIVE",
          "POSITIVE",
          "POSITIVE",
          "POSITIVE",
          "POSITIVE",
          "POSITIVE",
          "POSITIVE",
          "POSITIVE",
          "POSITIVE",
          "POSITIVE",
          "POSITIVE",
          "POSITIVE",
          "POSITIVE",
          "POSITIVE",
          "POSITIVE",
          "POSITIVE",
          "POSITIVE",
          "POSITIVE",
          "POSITIVE",
          "POSITIVE",
          "POSITIVE",
          "POSITIVE",
          "POSITIVE",
          "POSITIVE",
          "POSITIVE",
          "POSITIVE",
          "POSITIVE",
          "POSITIVE",
          "POSITIVE",
          "POSITIVE",
          "POSITIVE",
          "POSITIVE",
          "POSITIVE",
          "POSITIVE",
          "POSITIVE",
          "POSITIVE",
          "POSITIVE",
          "POSITIVE",
          "POSITIVE",
          "POSITIVE",
          "POSITIVE",
          "POSITIVE",
          "POSITIVE",
          "POSITIVE",
          "POSITIVE",
          "POSITIVE",
          "POSITIVE",
          "POSITIVE",
          "POSITIVE",
          "POSITIVE",
          "POSITIVE",
          "POSITIVE",
          "POSITIVE",
          "POSITIVE",
          "POSITIVE",
          "POSITIVE",
          "POSITIVE",
          "POSITIVE",
          "POSITIVE",
          "POSITIVE",
          "POSITIVE",
          "POSITIVE",
          "POSITIVE",
          "POSITIVE",
          "POSITIVE",
          "POSITIVE",
          "POSITIVE",
          "POSITIVE",
          "POSITIVE",
          "POSITIVE",
          "POSITIVE",
          "POSITIVE",
          "POSITIVE",
          "POSITIVE",
          "POSITIVE",
          "POSITIVE",
          "POSITIVE",
          "POSITIVE",
          "POSITIVE",
          "POSITIVE",
          "POSITIVE",
          "POSITIVE",
          "POSITIVE",
          "POSITIVE",
          "POSITIVE",
          "POSITIVE",
          "POSITIVE",
          "POSITIVE",
          "POSITIVE",
          "POSITIVE",
          "POSITIVE",
          "POSITIVE",
          "POSITIVE",
          "POSITIVE",
          "POSITIVE",
          "POSITIVE",
          "POSITIVE",
          "POSITIVE",
          "POSITIVE",
          "POSITIVE",
          "POSITIVE",
          "POSITIVE",
          "POSITIVE",
          "POSITIVE",
          "POSITIVE",
          "POSITIVE",
          "POSITIVE",
          "POSITIVE",
          "POSITIVE",
          "POSITIVE",
          "POSITIVE",
          "POSITIVE",
          "POSITIVE",
          "POSITIVE",
          "POSITIVE",
          "POSITIVE",
          "POSITIVE",
          "POSITIVE",
          "POSITIVE",
          "POSITIVE",
          "POSITIVE",
          "POSITIVE",
          "POSITIVE",
          "POSITIVE",
          "POSITIVE",
          "POSITIVE",
          "POSITIVE",
          "POSITIVE",
          "POSITIVE",
          "POSITIVE",
          "POSITIVE",
          "POSITIVE",
          "POSITIVE",
          "POSITIVE",
          "POSITIVE",
          "POSITIVE",
          "POSITIVE",
          "POSITIVE",
          "POSITIVE",
          "POSITIVE",
          "POSITIVE",
          "POSITIVE",
          "POSITIVE",
          "POSITIVE",
          "POSITIVE",
          "POSITIVE",
          "POSITIVE",
          "POSITIVE",
          "POSITIVE",
          "POSITIVE",
          "POSITIVE",
          "POSITIVE",
          "POSITIVE",
          "POSITIVE",
          "POSITIVE",
          "POSITIVE",
          "POSITIVE",
          "POSITIVE",
          "POSITIVE",
          "POSITIVE",
          "POSITIVE",
          "POSITIVE",
          "POSITIVE",
          "POSITIVE",
          "POSITIVE",
          "POSITIVE",
          "POSITIVE",
          "POSITIVE",
          "POSITIVE",
          "POSITIVE",
          "POSITIVE",
          "POSITIVE",
          "POSITIVE",
          "POSITIVE",
          "POSITIVE",
          "POSITIVE",
          "POSITIVE",
          "POSITIVE",
          "POSITIVE",
          "POSITIVE",
          "POSITIVE",
          "POSITIVE",
          "POSITIVE",
          "POSITIVE",
          "POSITIVE",
          "POSITIVE",
          "POSITIVE",
          "POSITIVE",
          "POSITIVE",
          "POSITIVE",
          "POSITIVE",
          "POSITIVE",
          "POSITIVE",
          "POSITIVE",
          "POSITIVE",
          "POSITIVE",
          "POSITIVE",
          "POSITIVE",
          "POSITIVE",
          "POSITIVE",
          "POSITIVE",
          "POSITIVE",
          "POSITIVE",
          "POSITIVE",
          "POSITIVE",
          "POSITIVE",
          "POSITIVE",
          "POSITIVE",
          "POSITIVE",
          "POSITIVE",
          "POSITIVE",
          "POSITIVE",
          "POSITIVE",
          "POSITIVE",
          "POSITIVE",
          "POSITIVE",
          "POSITIVE",
          "POSITIVE",
          "POSITIVE",
          "POSITIVE",
          "POSITIVE",
          "POSITIVE",
          "POSITIVE",
          "POSITIVE",
          "POSITIVE",
          "POSITIVE",
          "POSITIVE",
          "POSITIVE",
          "POSITIVE",
          "POSITIVE",
          "POSITIVE",
          "POSITIVE",
          "POSITIVE",
          "POSITIVE",
          "POSITIVE",
          "POSITIVE",
          "POSITIVE",
          "POSITIVE",
          "POSITIVE",
          "POSITIVE",
          "POSITIVE",
          "POSITIVE",
          "POSITIVE",
          "POSITIVE",
          "POSITIVE",
          "POSITIVE",
          "POSITIVE",
          "POSITIVE",
          "POSITIVE",
          "POSITIVE",
          "POSITIVE",
          "POSITIVE",
          "POSITIVE",
          "POSITIVE",
          "POSITIVE",
          "POSITIVE",
          "POSITIVE",
          "POSITIVE",
          "POSITIVE",
          "POSITIVE",
          "POSITIVE",
          "POSITIVE",
          "POSITIVE",
          "POSITIVE",
          "POSITIVE",
          "POSITIVE",
          "POSITIVE",
          "POSITIVE",
          "POSITIVE",
          "POSITIVE",
          "POSITIVE",
          "POSITIVE",
          "POSITIVE",
          "POSITIVE",
          "POSITIVE",
          "POSITIVE",
          "POSITIVE",
          "POSITIVE",
          "POSITIVE",
          "POSITIVE",
          "POSITIVE",
          "POSITIVE",
          "POSITIVE",
          "POSITIVE",
          "POSITIVE",
          "POSITIVE",
          "POSITIVE",
          "POSITIVE",
          "POSITIVE",
          "POSITIVE",
          "POSITIVE",
          "POSITIVE",
          "POSITIVE",
          "POSITIVE",
          "POSITIVE",
          "POSITIVE",
          "POSITIVE",
          "POSITIVE",
          "POSITIVE",
          "POSITIVE",
          "POSITIVE",
          "POSITIVE",
          "POSITIVE",
          "POSITIVE",
          "POSITIVE",
          "POSITIVE",
          "POSITIVE",
          "POSITIVE",
          "POSITIVE",
          "POSITIVE",
          "POSITIVE",
          "POSITIVE",
          "POSITIVE",
          "POSITIVE",
          "POSITIVE",
          "POSITIVE",
          "POSITIVE",
          "POSITIVE",
          "POSITIVE",
          "POSITIVE",
          "POSITIVE",
          "POSITIVE",
          "POSITIVE",
          "POSITIVE",
          "POSITIVE",
          "POSITIVE",
          "POSITIVE",
          "POSITIVE",
          "POSITIVE",
          "POSITIVE",
          "POSITIVE",
          "POSITIVE",
          "POSITIVE",
          "POSITIVE",
          "POSITIVE",
          "POSITIVE",
          "POSITIVE",
          "POSITIVE",
          "POSITIVE",
          "POSITIVE",
          "POSITIVE",
          "POSITIVE",
          "POSITIVE",
          "POSITIVE",
          "POSITIVE",
          "POSITIVE",
          "POSITIVE",
          "POSITIVE",
          "POSITIVE",
          "POSITIVE",
          "POSITIVE",
          "POSITIVE",
          "POSITIVE",
          "POSITIVE",
          "POSITIVE",
          "POSITIVE",
          "POSITIVE",
          "POSITIVE",
          "POSITIVE",
          "POSITIVE",
          "POSITIVE",
          "POSITIVE",
          "POSITIVE",
          "POSITIVE",
          "POSITIVE",
          "POSITIVE",
          "POSITIVE",
          "POSITIVE",
          "POSITIVE",
          "POSITIVE",
          "POSITIVE",
          "POSITIVE",
          "POSITIVE",
          "POSITIVE",
          "POSITIVE",
          "POSITIVE",
          "POSITIVE",
          "POSITIVE",
          "POSITIVE",
          "POSITIVE",
          "POSITIVE",
          "POSITIVE",
          "POSITIVE",
          "POSITIVE",
          "POSITIVE",
          "POSITIVE",
          "POSITIVE",
          "POSITIVE",
          "POSITIVE",
          "POSITIVE",
          "POSITIVE",
          "POSITIVE",
          "POSITIVE",
          "POSITIVE",
          "POSITIVE",
          "POSITIVE",
          "POSITIVE",
          "POSITIVE",
          "POSITIVE",
          "POSITIVE",
          "POSITIVE",
          "POSITIVE",
          "POSITIVE",
          "POSITIVE",
          "POSITIVE",
          "POSITIVE",
          "POSITIVE",
          "POSITIVE",
          "POSITIVE",
          "POSITIVE",
          "POSITIVE",
          "POSITIVE",
          "POSITIVE",
          "POSITIVE",
          "POSITIVE",
          "POSITIVE",
          "POSITIVE",
          "POSITIVE",
          "POSITIVE",
          "POSITIVE",
          "POSITIVE",
          "POSITIVE",
          "POSITIVE",
          "POSITIVE",
          "POSITIVE",
          "POSITIVE",
          "POSITIVE",
          "POSITIVE",
          "POSITIVE",
          "POSITIVE",
          "POSITIVE",
          "POSITIVE",
          "POSITIVE",
          "POSITIVE",
          "POSITIVE",
          "POSITIVE",
          "POSITIVE",
          "POSITIVE",
          "POSITIVE",
          "POSITIVE",
          "POSITIVE",
          "POSITIVE",
          "POSITIVE",
          "POSITIVE",
          "POSITIVE",
          "POSITIVE",
          "POSITIVE",
          "POSITIVE",
          "POSITIVE",
          "POSITIVE",
          "POSITIVE",
          "POSITIVE",
          "POSITIVE",
          "POSITIVE",
          "POSITIVE",
          "POSITIVE",
          "POSITIVE",
          "POSITIVE",
          "POSITIVE",
          "POSITIVE",
          "POSITIVE",
          "POSITIVE",
          "POSITIVE",
          "POSITIVE",
          "POSITIVE",
          "POSITIVE",
          "POSITIVE",
          "POSITIVE",
          "POSITIVE",
          "POSITIVE",
          "POSITIVE",
          "POSITIVE",
          "POSITIVE",
          "POSITIVE",
          "POSITIVE",
          "POSITIVE",
          "POSITIVE",
          "POSITIVE",
          "POSITIVE",
          "POSITIVE",
          "POSITIVE",
          "POSITIVE",
          "POSITIVE",
          "POSITIVE",
          "POSITIVE",
          "POSITIVE",
          "POSITIVE",
          "POSITIVE",
          "POSITIVE",
          "POSITIVE",
          "POSITIVE",
          "POSITIVE",
          "POSITIVE",
          "POSITIVE",
          "POSITIVE",
          "POSITIVE",
          "POSITIVE",
          "POSITIVE",
          "POSITIVE",
          "POSITIVE",
          "POSITIVE",
          "POSITIVE",
          "POSITIVE",
          "POSITIVE",
          "POSITIVE",
          "POSITIVE",
          "POSITIVE",
          "POSITIVE",
          "POSITIVE",
          "POSITIVE",
          "POSITIVE",
          "POSITIVE",
          "POSITIVE",
          "POSITIVE",
          "POSITIVE",
          "POSITIVE",
          "POSITIVE",
          "POSITIVE",
          "POSITIVE",
          "POSITIVE",
          "POSITIVE",
          "POSITIVE",
          "POSITIVE",
          "POSITIVE",
          "POSITIVE",
          "POSITIVE",
          "POSITIVE",
          "POSITIVE",
          "POSITIVE",
          "POSITIVE",
          "POSITIVE",
          "POSITIVE",
          "POSITIVE",
          "POSITIVE",
          "POSITIVE",
          "POSITIVE",
          "POSITIVE",
          "POSITIVE",
          "POSITIVE",
          "POSITIVE",
          "POSITIVE",
          "POSITIVE",
          "POSITIVE",
          "POSITIVE",
          "POSITIVE",
          "POSITIVE",
          "POSITIVE",
          "POSITIVE",
          "POSITIVE",
          "POSITIVE",
          "POSITIVE",
          "POSITIVE",
          "POSITIVE",
          "POSITIVE",
          "POSITIVE",
          "POSITIVE",
          "POSITIVE",
          "POSITIVE",
          "POSITIVE",
          "POSITIVE",
          "POSITIVE",
          "POSITIVE",
          "POSITIVE",
          "POSITIVE",
          "POSITIVE",
          "POSITIVE",
          "POSITIVE",
          "POSITIVE",
          "POSITIVE",
          "POSITIVE",
          "POSITIVE",
          "POSITIVE",
          "POSITIVE",
          "POSITIVE",
          "POSITIVE",
          "POSITIVE",
          "POSITIVE",
          "POSITIVE",
          "POSITIVE",
          "POSITIVE",
          "POSITIVE",
          "POSITIVE",
          "POSITIVE",
          "POSITIVE",
          "POSITIVE",
          "POSITIVE",
          "POSITIVE",
          "POSITIVE",
          "POSITIVE",
          "POSITIVE",
          "POSITIVE",
          "POSITIVE",
          "POSITIVE",
          "POSITIVE",
          "POSITIVE",
          "POSITIVE",
          "POSITIVE",
          "POSITIVE",
          "POSITIVE",
          "POSITIVE",
          "POSITIVE",
          "POSITIVE",
          "POSITIVE",
          "POSITIVE",
          "POSITIVE",
          "POSITIVE",
          "POSITIVE",
          "POSITIVE",
          "POSITIVE",
          "POSITIVE",
          "POSITIVE",
          "POSITIVE",
          "POSITIVE",
          "POSITIVE",
          "POSITIVE",
          "POSITIVE",
          "POSITIVE",
          "POSITIVE",
          "POSITIVE",
          "POSITIVE",
          "POSITIVE",
          "POSITIVE",
          "POSITIVE",
          "POSITIVE",
          "POSITIVE",
          "POSITIVE",
          "POSITIVE",
          "POSITIVE",
          "POSITIVE",
          "POSITIVE",
          "POSITIVE",
          "POSITIVE",
          "POSITIVE",
          "POSITIVE",
          "POSITIVE",
          "POSITIVE",
          "POSITIVE",
          "POSITIVE",
          "POSITIVE",
          "POSITIVE",
          "POSITIVE",
          "POSITIVE",
          "POSITIVE",
          "POSITIVE",
          "POSITIVE",
          "POSITIVE",
          "POSITIVE",
          "POSITIVE",
          "POSITIVE",
          "POSITIVE",
          "POSITIVE",
          "POSITIVE",
          "POSITIVE",
          "POSITIVE",
          "POSITIVE",
          "POSITIVE",
          "POSITIVE",
          "POSITIVE",
          "POSITIVE",
          "POSITIVE",
          "POSITIVE",
          "POSITIVE",
          "POSITIVE",
          "POSITIVE",
          "POSITIVE",
          "POSITIVE",
          "POSITIVE",
          "POSITIVE",
          "POSITIVE",
          "POSITIVE",
          "POSITIVE",
          "POSITIVE",
          "POSITIVE",
          "POSITIVE",
          "POSITIVE",
          "POSITIVE",
          "POSITIVE",
          "POSITIVE",
          "POSITIVE",
          "POSITIVE",
          "POSITIVE",
          "POSITIVE",
          "POSITIVE",
          "POSITIVE",
          "POSITIVE",
          "POSITIVE",
          "POSITIVE",
          "POSITIVE",
          "POSITIVE",
          "POSITIVE",
          "POSITIVE",
          "POSITIVE",
          "POSITIVE",
          "POSITIVE",
          "POSITIVE",
          "POSITIVE",
          "POSITIVE",
          "POSITIVE",
          "POSITIVE",
          "POSITIVE",
          "POSITIVE",
          "POSITIVE",
          "POSITIVE",
          "POSITIVE",
          "POSITIVE",
          "POSITIVE",
          "POSITIVE",
          "POSITIVE",
          "POSITIVE",
          "POSITIVE",
          "POSITIVE",
          "POSITIVE",
          "POSITIVE",
          "POSITIVE",
          "POSITIVE",
          "POSITIVE",
          "POSITIVE",
          "POSITIVE",
          "POSITIVE",
          "POSITIVE",
          "POSITIVE",
          "POSITIVE",
          "POSITIVE",
          "POSITIVE",
          "POSITIVE",
          "POSITIVE",
          "POSITIVE",
          "POSITIVE",
          "POSITIVE",
          "POSITIVE",
          "POSITIVE",
          "POSITIVE",
          "POSITIVE",
          "POSITIVE",
          "POSITIVE",
          "POSITIVE",
          "POSITIVE",
          "POSITIVE",
          "POSITIVE",
          "POSITIVE",
          "POSITIVE",
          "POSITIVE",
          "POSITIVE",
          "POSITIVE",
          "POSITIVE",
          "POSITIVE",
          "POSITIVE",
          "POSITIVE",
          "POSITIVE",
          "POSITIVE",
          "POSITIVE",
          "POSITIVE",
          "POSITIVE",
          "POSITIVE",
          "POSITIVE",
          "POSITIVE",
          "POSITIVE",
          "POSITIVE",
          "POSITIVE",
          "POSITIVE",
          "POSITIVE",
          "POSITIVE",
          "POSITIVE",
          "POSITIVE",
          "POSITIVE",
          "POSITIVE",
          "POSITIVE",
          "POSITIVE",
          "POSITIVE",
          "POSITIVE",
          "POSITIVE",
          "POSITIVE",
          "POSITIVE",
          "POSITIVE",
          "POSITIVE",
          "POSITIVE",
          "POSITIVE",
          "POSITIVE",
          "POSITIVE",
          "POSITIVE",
          "POSITIVE",
          "POSITIVE",
          "POSITIVE",
          "POSITIVE",
          "POSITIVE",
          "POSITIVE",
          "POSITIVE",
          "POSITIVE",
          "POSITIVE",
          "POSITIVE",
          "POSITIVE",
          "POSITIVE",
          "POSITIVE",
          "POSITIVE"
         ],
         "xaxis": "x",
         "yaxis": "y"
        }
       ],
       "layout": {
        "barmode": "relative",
        "legend": {
         "title": {
          "text": "sentiment"
         },
         "tracegroupgap": 0
        },
        "margin": {
         "t": 60
        },
        "template": {
         "data": {
          "bar": [
           {
            "error_x": {
             "color": "#2a3f5f"
            },
            "error_y": {
             "color": "#2a3f5f"
            },
            "marker": {
             "line": {
              "color": "#E5ECF6",
              "width": 0.5
             },
             "pattern": {
              "fillmode": "overlay",
              "size": 10,
              "solidity": 0.2
             }
            },
            "type": "bar"
           }
          ],
          "barpolar": [
           {
            "marker": {
             "line": {
              "color": "#E5ECF6",
              "width": 0.5
             },
             "pattern": {
              "fillmode": "overlay",
              "size": 10,
              "solidity": 0.2
             }
            },
            "type": "barpolar"
           }
          ],
          "carpet": [
           {
            "aaxis": {
             "endlinecolor": "#2a3f5f",
             "gridcolor": "white",
             "linecolor": "white",
             "minorgridcolor": "white",
             "startlinecolor": "#2a3f5f"
            },
            "baxis": {
             "endlinecolor": "#2a3f5f",
             "gridcolor": "white",
             "linecolor": "white",
             "minorgridcolor": "white",
             "startlinecolor": "#2a3f5f"
            },
            "type": "carpet"
           }
          ],
          "choropleth": [
           {
            "colorbar": {
             "outlinewidth": 0,
             "ticks": ""
            },
            "type": "choropleth"
           }
          ],
          "contour": [
           {
            "colorbar": {
             "outlinewidth": 0,
             "ticks": ""
            },
            "colorscale": [
             [
              0,
              "#0d0887"
             ],
             [
              0.1111111111111111,
              "#46039f"
             ],
             [
              0.2222222222222222,
              "#7201a8"
             ],
             [
              0.3333333333333333,
              "#9c179e"
             ],
             [
              0.4444444444444444,
              "#bd3786"
             ],
             [
              0.5555555555555556,
              "#d8576b"
             ],
             [
              0.6666666666666666,
              "#ed7953"
             ],
             [
              0.7777777777777778,
              "#fb9f3a"
             ],
             [
              0.8888888888888888,
              "#fdca26"
             ],
             [
              1,
              "#f0f921"
             ]
            ],
            "type": "contour"
           }
          ],
          "contourcarpet": [
           {
            "colorbar": {
             "outlinewidth": 0,
             "ticks": ""
            },
            "type": "contourcarpet"
           }
          ],
          "heatmap": [
           {
            "colorbar": {
             "outlinewidth": 0,
             "ticks": ""
            },
            "colorscale": [
             [
              0,
              "#0d0887"
             ],
             [
              0.1111111111111111,
              "#46039f"
             ],
             [
              0.2222222222222222,
              "#7201a8"
             ],
             [
              0.3333333333333333,
              "#9c179e"
             ],
             [
              0.4444444444444444,
              "#bd3786"
             ],
             [
              0.5555555555555556,
              "#d8576b"
             ],
             [
              0.6666666666666666,
              "#ed7953"
             ],
             [
              0.7777777777777778,
              "#fb9f3a"
             ],
             [
              0.8888888888888888,
              "#fdca26"
             ],
             [
              1,
              "#f0f921"
             ]
            ],
            "type": "heatmap"
           }
          ],
          "heatmapgl": [
           {
            "colorbar": {
             "outlinewidth": 0,
             "ticks": ""
            },
            "colorscale": [
             [
              0,
              "#0d0887"
             ],
             [
              0.1111111111111111,
              "#46039f"
             ],
             [
              0.2222222222222222,
              "#7201a8"
             ],
             [
              0.3333333333333333,
              "#9c179e"
             ],
             [
              0.4444444444444444,
              "#bd3786"
             ],
             [
              0.5555555555555556,
              "#d8576b"
             ],
             [
              0.6666666666666666,
              "#ed7953"
             ],
             [
              0.7777777777777778,
              "#fb9f3a"
             ],
             [
              0.8888888888888888,
              "#fdca26"
             ],
             [
              1,
              "#f0f921"
             ]
            ],
            "type": "heatmapgl"
           }
          ],
          "histogram": [
           {
            "marker": {
             "pattern": {
              "fillmode": "overlay",
              "size": 10,
              "solidity": 0.2
             }
            },
            "type": "histogram"
           }
          ],
          "histogram2d": [
           {
            "colorbar": {
             "outlinewidth": 0,
             "ticks": ""
            },
            "colorscale": [
             [
              0,
              "#0d0887"
             ],
             [
              0.1111111111111111,
              "#46039f"
             ],
             [
              0.2222222222222222,
              "#7201a8"
             ],
             [
              0.3333333333333333,
              "#9c179e"
             ],
             [
              0.4444444444444444,
              "#bd3786"
             ],
             [
              0.5555555555555556,
              "#d8576b"
             ],
             [
              0.6666666666666666,
              "#ed7953"
             ],
             [
              0.7777777777777778,
              "#fb9f3a"
             ],
             [
              0.8888888888888888,
              "#fdca26"
             ],
             [
              1,
              "#f0f921"
             ]
            ],
            "type": "histogram2d"
           }
          ],
          "histogram2dcontour": [
           {
            "colorbar": {
             "outlinewidth": 0,
             "ticks": ""
            },
            "colorscale": [
             [
              0,
              "#0d0887"
             ],
             [
              0.1111111111111111,
              "#46039f"
             ],
             [
              0.2222222222222222,
              "#7201a8"
             ],
             [
              0.3333333333333333,
              "#9c179e"
             ],
             [
              0.4444444444444444,
              "#bd3786"
             ],
             [
              0.5555555555555556,
              "#d8576b"
             ],
             [
              0.6666666666666666,
              "#ed7953"
             ],
             [
              0.7777777777777778,
              "#fb9f3a"
             ],
             [
              0.8888888888888888,
              "#fdca26"
             ],
             [
              1,
              "#f0f921"
             ]
            ],
            "type": "histogram2dcontour"
           }
          ],
          "mesh3d": [
           {
            "colorbar": {
             "outlinewidth": 0,
             "ticks": ""
            },
            "type": "mesh3d"
           }
          ],
          "parcoords": [
           {
            "line": {
             "colorbar": {
              "outlinewidth": 0,
              "ticks": ""
             }
            },
            "type": "parcoords"
           }
          ],
          "pie": [
           {
            "automargin": true,
            "type": "pie"
           }
          ],
          "scatter": [
           {
            "fillpattern": {
             "fillmode": "overlay",
             "size": 10,
             "solidity": 0.2
            },
            "type": "scatter"
           }
          ],
          "scatter3d": [
           {
            "line": {
             "colorbar": {
              "outlinewidth": 0,
              "ticks": ""
             }
            },
            "marker": {
             "colorbar": {
              "outlinewidth": 0,
              "ticks": ""
             }
            },
            "type": "scatter3d"
           }
          ],
          "scattercarpet": [
           {
            "marker": {
             "colorbar": {
              "outlinewidth": 0,
              "ticks": ""
             }
            },
            "type": "scattercarpet"
           }
          ],
          "scattergeo": [
           {
            "marker": {
             "colorbar": {
              "outlinewidth": 0,
              "ticks": ""
             }
            },
            "type": "scattergeo"
           }
          ],
          "scattergl": [
           {
            "marker": {
             "colorbar": {
              "outlinewidth": 0,
              "ticks": ""
             }
            },
            "type": "scattergl"
           }
          ],
          "scattermapbox": [
           {
            "marker": {
             "colorbar": {
              "outlinewidth": 0,
              "ticks": ""
             }
            },
            "type": "scattermapbox"
           }
          ],
          "scatterpolar": [
           {
            "marker": {
             "colorbar": {
              "outlinewidth": 0,
              "ticks": ""
             }
            },
            "type": "scatterpolar"
           }
          ],
          "scatterpolargl": [
           {
            "marker": {
             "colorbar": {
              "outlinewidth": 0,
              "ticks": ""
             }
            },
            "type": "scatterpolargl"
           }
          ],
          "scatterternary": [
           {
            "marker": {
             "colorbar": {
              "outlinewidth": 0,
              "ticks": ""
             }
            },
            "type": "scatterternary"
           }
          ],
          "surface": [
           {
            "colorbar": {
             "outlinewidth": 0,
             "ticks": ""
            },
            "colorscale": [
             [
              0,
              "#0d0887"
             ],
             [
              0.1111111111111111,
              "#46039f"
             ],
             [
              0.2222222222222222,
              "#7201a8"
             ],
             [
              0.3333333333333333,
              "#9c179e"
             ],
             [
              0.4444444444444444,
              "#bd3786"
             ],
             [
              0.5555555555555556,
              "#d8576b"
             ],
             [
              0.6666666666666666,
              "#ed7953"
             ],
             [
              0.7777777777777778,
              "#fb9f3a"
             ],
             [
              0.8888888888888888,
              "#fdca26"
             ],
             [
              1,
              "#f0f921"
             ]
            ],
            "type": "surface"
           }
          ],
          "table": [
           {
            "cells": {
             "fill": {
              "color": "#EBF0F8"
             },
             "line": {
              "color": "white"
             }
            },
            "header": {
             "fill": {
              "color": "#C8D4E3"
             },
             "line": {
              "color": "white"
             }
            },
            "type": "table"
           }
          ]
         },
         "layout": {
          "annotationdefaults": {
           "arrowcolor": "#2a3f5f",
           "arrowhead": 0,
           "arrowwidth": 1
          },
          "autotypenumbers": "strict",
          "coloraxis": {
           "colorbar": {
            "outlinewidth": 0,
            "ticks": ""
           }
          },
          "colorscale": {
           "diverging": [
            [
             0,
             "#8e0152"
            ],
            [
             0.1,
             "#c51b7d"
            ],
            [
             0.2,
             "#de77ae"
            ],
            [
             0.3,
             "#f1b6da"
            ],
            [
             0.4,
             "#fde0ef"
            ],
            [
             0.5,
             "#f7f7f7"
            ],
            [
             0.6,
             "#e6f5d0"
            ],
            [
             0.7,
             "#b8e186"
            ],
            [
             0.8,
             "#7fbc41"
            ],
            [
             0.9,
             "#4d9221"
            ],
            [
             1,
             "#276419"
            ]
           ],
           "sequential": [
            [
             0,
             "#0d0887"
            ],
            [
             0.1111111111111111,
             "#46039f"
            ],
            [
             0.2222222222222222,
             "#7201a8"
            ],
            [
             0.3333333333333333,
             "#9c179e"
            ],
            [
             0.4444444444444444,
             "#bd3786"
            ],
            [
             0.5555555555555556,
             "#d8576b"
            ],
            [
             0.6666666666666666,
             "#ed7953"
            ],
            [
             0.7777777777777778,
             "#fb9f3a"
            ],
            [
             0.8888888888888888,
             "#fdca26"
            ],
            [
             1,
             "#f0f921"
            ]
           ],
           "sequentialminus": [
            [
             0,
             "#0d0887"
            ],
            [
             0.1111111111111111,
             "#46039f"
            ],
            [
             0.2222222222222222,
             "#7201a8"
            ],
            [
             0.3333333333333333,
             "#9c179e"
            ],
            [
             0.4444444444444444,
             "#bd3786"
            ],
            [
             0.5555555555555556,
             "#d8576b"
            ],
            [
             0.6666666666666666,
             "#ed7953"
            ],
            [
             0.7777777777777778,
             "#fb9f3a"
            ],
            [
             0.8888888888888888,
             "#fdca26"
            ],
            [
             1,
             "#f0f921"
            ]
           ]
          },
          "colorway": [
           "#636efa",
           "#EF553B",
           "#00cc96",
           "#ab63fa",
           "#FFA15A",
           "#19d3f3",
           "#FF6692",
           "#B6E880",
           "#FF97FF",
           "#FECB52"
          ],
          "font": {
           "color": "#2a3f5f"
          },
          "geo": {
           "bgcolor": "white",
           "lakecolor": "white",
           "landcolor": "#E5ECF6",
           "showlakes": true,
           "showland": true,
           "subunitcolor": "white"
          },
          "hoverlabel": {
           "align": "left"
          },
          "hovermode": "closest",
          "mapbox": {
           "style": "light"
          },
          "paper_bgcolor": "white",
          "plot_bgcolor": "#E5ECF6",
          "polar": {
           "angularaxis": {
            "gridcolor": "white",
            "linecolor": "white",
            "ticks": ""
           },
           "bgcolor": "#E5ECF6",
           "radialaxis": {
            "gridcolor": "white",
            "linecolor": "white",
            "ticks": ""
           }
          },
          "scene": {
           "xaxis": {
            "backgroundcolor": "#E5ECF6",
            "gridcolor": "white",
            "gridwidth": 2,
            "linecolor": "white",
            "showbackground": true,
            "ticks": "",
            "zerolinecolor": "white"
           },
           "yaxis": {
            "backgroundcolor": "#E5ECF6",
            "gridcolor": "white",
            "gridwidth": 2,
            "linecolor": "white",
            "showbackground": true,
            "ticks": "",
            "zerolinecolor": "white"
           },
           "zaxis": {
            "backgroundcolor": "#E5ECF6",
            "gridcolor": "white",
            "gridwidth": 2,
            "linecolor": "white",
            "showbackground": true,
            "ticks": "",
            "zerolinecolor": "white"
           }
          },
          "shapedefaults": {
           "line": {
            "color": "#2a3f5f"
           }
          },
          "ternary": {
           "aaxis": {
            "gridcolor": "white",
            "linecolor": "white",
            "ticks": ""
           },
           "baxis": {
            "gridcolor": "white",
            "linecolor": "white",
            "ticks": ""
           },
           "bgcolor": "#E5ECF6",
           "caxis": {
            "gridcolor": "white",
            "linecolor": "white",
            "ticks": ""
           }
          },
          "title": {
           "x": 0.05
          },
          "xaxis": {
           "automargin": true,
           "gridcolor": "white",
           "linecolor": "white",
           "ticks": "",
           "title": {
            "standoff": 15
           },
           "zerolinecolor": "white",
           "zerolinewidth": 2
          },
          "yaxis": {
           "automargin": true,
           "gridcolor": "white",
           "linecolor": "white",
           "ticks": "",
           "title": {
            "standoff": 15
           },
           "zerolinecolor": "white",
           "zerolinewidth": 2
          }
         }
        },
        "xaxis": {
         "anchor": "y",
         "categoryarray": [
          "NEGATIVE",
          "POSITIVE"
         ],
         "categoryorder": "array",
         "domain": [
          0,
          1
         ],
         "title": {
          "text": "sentiment"
         }
        },
        "yaxis": {
         "anchor": "x",
         "domain": [
          0,
          1
         ],
         "title": {
          "text": "count"
         }
        }
       }
      }
     },
     "metadata": {},
     "output_type": "display_data"
    }
   ],
   "source": [
    "# Draw histogram of the sentiment scores\n",
    "figure = px.histogram(\n",
    "    dataframe,\n",
    "    x='sentiment',\n",
    "    color='sentiment',\n",
    "    text_auto=True,\n",
    ")\n",
    "\n",
    "figure.show()"
   ]
  },
  {
   "cell_type": "code",
   "execution_count": 38,
   "metadata": {},
   "outputs": [],
   "source": [
    "# Save the dataframe to a CSV file\n",
    "dataframe.to_csv('skill_cat_reviews.csv')"
   ]
  }
 ],
 "metadata": {
  "kernelspec": {
   "display_name": "Python 3",
   "language": "python",
   "name": "python3"
  },
  "language_info": {
   "codemirror_mode": {
    "name": "ipython",
    "version": 3
   },
   "file_extension": ".py",
   "mimetype": "text/x-python",
   "name": "python",
   "nbconvert_exporter": "python",
   "pygments_lexer": "ipython3",
   "version": "3.12.5"
  }
 },
 "nbformat": 4,
 "nbformat_minor": 2
}
